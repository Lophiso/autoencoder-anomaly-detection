{
 "cells": [
  {
   "cell_type": "code",
   "execution_count": 13,
   "id": "040ba236-cca3-40ef-8b1c-5ec8bb8ff013",
   "metadata": {},
   "outputs": [
    {
     "name": "stdout",
     "output_type": "stream",
     "text": [
      "File exists: True\n",
      "Loaded data shape: (10, 9)\n",
      "Windowed data shape: (4, 3, 9)\n"
     ]
    }
   ],
   "source": [
    "import os\n",
    "import numpy as np\n",
    "import pandas as pd\n",
    "from sklearn.preprocessing import MinMaxScaler\n",
    "\n",
    "DATA_PATH = DATA_PATH = r\"C:\\MLCourse\\My_Exercises\\Autonomous System\\Data\\sample_sensor.csv\"\n",
    "\n",
    "def load_data(path=DATA_PATH):\n",
    "    \"\"\"\n",
    "    Load sensor data from csv file.\n",
    "    \"\"\"\n",
    "    import os\n",
    "    print(\"File exists:\", os.path.exists(DATA_PATH))\n",
    "\n",
    "    df = pd.read_csv(path)\n",
    "    return df\n",
    "\n",
    "def normalize_data(df, method=\"minmax\"):\n",
    "    \"\"\"\n",
    "    Normalize sensor values using MinMax or Z-score.\n",
    "    \"\"\"\n",
    "    if method == \"minmax\":\n",
    "        scaler = MinMaxScaler()\n",
    "        scaled = scaler.fit_transform(df)\n",
    "    elif method == \"zscore\":\n",
    "        scaled = (df - df.mean()) / df.std()\n",
    "    else:\n",
    "        raise ValueError(\"Unsupported normalization method\")\n",
    "    return scaled\n",
    "\n",
    "def segment_windows(data, window_size=3, step_size=2):\n",
    "    \"\"\"\n",
    "    Segment time-series data using sliding window.\n",
    "    Returns shape: [num_windows, window_size, num_features]\n",
    "    \"\"\"\n",
    "    windows = []\n",
    "    for start in range(0, len(data) - window_size + 1, step_size):\n",
    "        window = data[start:start+window_size]\n",
    "        windows.append(window)\n",
    "    return np.array(windows)\n",
    "\n",
    "if __name__ == \"__main__\":\n",
    "    df = load_data()\n",
    "    print(f\"Loaded data shape: {df.shape}\")\n",
    "    data_norm = normalize_data(df)\n",
    "    windows = segment_windows(data_norm)\n",
    "    print(f\"Windowed data shape: {windows.shape}\")"
   ]
  },
  {
   "cell_type": "code",
   "execution_count": null,
   "id": "c29f869b-232a-446c-9dbc-d452ba4e4c30",
   "metadata": {},
   "outputs": [],
   "source": []
  }
 ],
 "metadata": {
  "kernelspec": {
   "display_name": "Python 3 (ipykernel)",
   "language": "python",
   "name": "python3"
  },
  "language_info": {
   "codemirror_mode": {
    "name": "ipython",
    "version": 3
   },
   "file_extension": ".py",
   "mimetype": "text/x-python",
   "name": "python",
   "nbconvert_exporter": "python",
   "pygments_lexer": "ipython3",
   "version": "3.12.3"
  }
 },
 "nbformat": 4,
 "nbformat_minor": 5
}
